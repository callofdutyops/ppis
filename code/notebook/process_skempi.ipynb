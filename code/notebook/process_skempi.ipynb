{
 "cells": [
  {
   "cell_type": "code",
   "execution_count": null,
   "metadata": {},
   "outputs": [],
   "source": [
    "import csv\n",
    "import math\n",
    "import os\n",
    "import warnings\n",
    "\n",
    "from Bio import BiopythonWarning\n",
    "warnings.simplefilter('ignore', BiopythonWarning)\n",
    "from Bio.PDB import (\n",
    "    PDBParser,\n",
    "    PPBuilder\n",
    ")\n",
    "from Bio.PDB.Polypeptide import (\n",
    "    three_to_one,\n",
    "    one_to_three\n",
    ")\n",
    "\n",
    "import pandas as pd\n",
    "import numpy as np\n",
    "\n",
    "from tqdm import tqdm\n",
    "\n",
    "from common import (\n",
    "    R,\n",
    "    skempi_pdbs_dir,\n",
    "    skempi_csv_path,\n",
    "    pdb_ext,\n",
    "    delta_g_path,\n",
    "    id_seq_path\n",
    ")"
   ]
  },
  {
   "cell_type": "code",
   "execution_count": null,
   "metadata": {},
   "outputs": [],
   "source": [
    "df = pd.read_csv(skempi_csv_path, sep = ';')\n",
    "df = df.dropna(subset = ['Affinity_mut_parsed', 'Affinity_wt_parsed', 'Temperature'])\n",
    "df.columns"
   ]
  },
  {
   "cell_type": "code",
   "execution_count": null,
   "metadata": {},
   "outputs": [],
   "source": [
    "# process temperature, like 298(assumed)\n",
    "df[\"Temperature\"] = df[\"Temperature\"].str.slice(0,3)"
   ]
  },
  {
   "cell_type": "code",
   "execution_count": null,
   "metadata": {},
   "outputs": [],
   "source": [
    "delta_g_data = []\n",
    "id_seq_dict = {}"
   ]
  },
  {
   "cell_type": "code",
   "execution_count": null,
   "metadata": {
    "tags": []
   },
   "outputs": [],
   "source": [
    "for idx, row in tqdm(df.iterrows()):\n",
    "    delta_g_item = {}\n",
    "    \n",
    "    # ========== parse skempi ==========\n",
    "    pdb_entry = row[\"#Pdb\"]\n",
    "    temp = row[\"Temperature\"]\n",
    "    ent_name = pdb_entry[:4]\n",
    "    model_chain_ids = pdb_entry.split('_')[1:]\n",
    "    mutations_pdb = row[\"Mutation(s)_cleaned\"].split(',')\n",
    "    # just keep single point mutation records\n",
    "    if len(mutations_pdb) != 1:\n",
    "        continue\n",
    "    mutation_pdb = mutations_pdb[0]\n",
    "    delta_g_wt = R * float(temp) * math.log(float(row[\"Affinity_wt_parsed\"]))\n",
    "    delta_g_mut = R * float(temp) * math.log(float(row[\"Affinity_mut_parsed\"]))\n",
    "    delta_g_item[\"delta_g_wt\"] = delta_g_wt\n",
    "    delta_g_item[\"delta_g_mut\"] = delta_g_mut\n",
    "    delta_g_item[\"delta_delta_g\"] = delta_g_mut - delta_g_wt\n",
    "    # print(ent_name, model_chain_ids, mutation_pdb, delta_g_wt, delta_g_mut, temp)\n",
    "    mut_chain_id, mut_residue_id, r_wt, r_mut = mutation_pdb[1], int(mutation_pdb[2:-1]), mutation_pdb[0], mutation_pdb[-1]\n",
    "    # print(mut_chain_id, mut_residue_id, r_wt, r_mut)\n",
    "    \n",
    "    # ========== parse pdb ==========\n",
    "    parser = PDBParser()\n",
    "    structure = parser.get_structure(ent_name, os.path.join(skempi_pdbs_dir, \"{}.{}\".format(ent_name, pdb_ext)))\n",
    "    # should be only one structure\n",
    "    if len(structure) != 1:\n",
    "        continue\n",
    "    model = structure[0]\n",
    "    \n",
    "    # ========== build id -> seq map and pair -> delta g map ==========\n",
    "    # wt pair and mut pair\n",
    "    for pair in [\"wt\", \"mut\"]:\n",
    "        for model_idx, model_chain_id in enumerate(model_chain_ids):\n",
    "            model_name = \"{}_{}\".format(ent_name, model_chain_id)            \n",
    "            model_seqs = \"\"\n",
    "            # multiple chains in one protein\n",
    "            for chain_id in model_chain_id:\n",
    "                chain_entry = model[chain_id]\n",
    "                # mutate\n",
    "                if pair == \"mut\" and chain_entry.id == mut_chain_id:\n",
    "                    residue = chain_entry[mut_residue_id]\n",
    "                    pdb_wt = three_to_one(residue.resname)\n",
    "                    if pdb_wt != r_wt:\n",
    "                        print(\"WARN: PDB wt residue {} not equals to skempi wt residue {}\".format(pdb_wt, r_wt))\n",
    "                    residue.resname = one_to_three(r_mut)\n",
    "                    model_name = \"{}_{}{}{}{}\".format(model_name, r_wt, mut_chain_id, mut_residue_id, r_mut)\n",
    "                builder = PPBuilder()\n",
    "                for pp in builder.build_peptides(chain_entry):\n",
    "                    model_seqs += pp.get_sequence()\n",
    "            delta_g_item[\"{}_name_{}\".format(pair, model_idx)] = model_name\n",
    "            # id -> seq map\n",
    "            if model_name not in id_seq_dict:\n",
    "                id_seq_dict[model_name] = str(model_seqs)\n",
    "    \n",
    "    delta_g_data.append(delta_g_item)"
   ]
  },
  {
   "cell_type": "code",
   "execution_count": null,
   "metadata": {},
   "outputs": [],
   "source": [
    "df_delta_g = pd.DataFrame(delta_g_data)\n",
    "df_delta_g"
   ]
  },
  {
   "cell_type": "code",
   "execution_count": null,
   "metadata": {},
   "outputs": [],
   "source": [
    "id_seq_data = [\n",
    "    {\"id\": k, \"seqs\": v}\n",
    "    for k, v in id_seq_dict.items()\n",
    "]\n",
    "df_id_seq = pd.DataFrame(id_seq_data)\n",
    "df_id_seq"
   ]
  },
  {
   "cell_type": "code",
   "execution_count": null,
   "metadata": {},
   "outputs": [],
   "source": [
    "df_delta_g.to_csv(delta_g_path, index=0)\n",
    "df_id_seq.to_csv(id_seq_path, index=0)"
   ]
  },
  {
   "cell_type": "code",
   "execution_count": null,
   "metadata": {},
   "outputs": [],
   "source": []
  }
 ],
 "metadata": {
  "kernelspec": {
   "display_name": "Python 3 (ipykernel)",
   "language": "python",
   "name": "python3"
  },
  "language_info": {
   "codemirror_mode": {
    "name": "ipython",
    "version": 3
   },
   "file_extension": ".py",
   "mimetype": "text/x-python",
   "name": "python",
   "nbconvert_exporter": "python",
   "pygments_lexer": "ipython3",
   "version": "3.9.7"
  }
 },
 "nbformat": 4,
 "nbformat_minor": 4
}
